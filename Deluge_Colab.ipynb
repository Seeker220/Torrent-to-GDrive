{
  "nbformat": 4,
  "nbformat_minor": 0,
  "metadata": {
    "colab": {
      "provenance": [],
      "collapsed_sections": [
        "AyZxM9lN-aek",
        "_dNtRCjI-f8U"
      ],
      "mount_file_id": "1GOnvnhzJLW14JvcKyslz8uC_OJ_zaGIn",
      "authorship_tag": "ABX9TyPWms7gM9lq8qKrNOPyDCnU",
      "include_colab_link": true
    },
    "kernelspec": {
      "name": "python3",
      "display_name": "Python 3"
    },
    "language_info": {
      "name": "python"
    }
  },
  "cells": [
    {
      "cell_type": "markdown",
      "metadata": {
        "id": "view-in-github",
        "colab_type": "text"
      },
      "source": [
        "<a href=\"https://colab.research.google.com/github/Seeker220/Torrent-to-GDrive/blob/main/Deluge_Colab.ipynb\" target=\"_parent\"><img src=\"https://colab.research.google.com/assets/colab-badge.svg\" alt=\"Open In Colab\"/></a>"
      ]
    },
    {
      "cell_type": "markdown",
      "source": [
        "# Install Deps"
      ],
      "metadata": {
        "id": "AyZxM9lN-aek"
      }
    },
    {
      "cell_type": "code",
      "execution_count": null,
      "metadata": {
        "id": "j67KWr6p-FC_"
      },
      "outputs": [],
      "source": [
        "!pip install libtorrent\n",
        "!apt update && apt install -y deluged deluge-web\n",
        "!wget https://github.com/cloudflare/cloudflared/releases/latest/download/cloudflared-linux-amd64 -O cloudflared\n",
        "!chmod +x cloudflared\n",
        "!mv cloudflared /usr/local/bin/\n",
        "!sed -i 's/\"allow_remote\": false/\"allow_remote\": true/' ~/.config/deluge/core.conf"
      ]
    },
    {
      "cell_type": "markdown",
      "source": [
        "# Start Deluge Daemon"
      ],
      "metadata": {
        "id": "_dNtRCjI-f8U"
      }
    },
    {
      "cell_type": "code",
      "source": [
        "# @markdown Go to the *trycloudflare.com* site shown in output. Password is **deluge**. Copy the Download Folder (in your drive) as path and paste it in Deluge Web Interface.\n",
        "!deluged & deluge-web --port=8112 & cloudflared tunnel --url http://localhost:8112 &"
      ],
      "metadata": {
        "cellView": "form",
        "id": "z6z5ryGE-n7R"
      },
      "execution_count": null,
      "outputs": []
    }
  ]
}